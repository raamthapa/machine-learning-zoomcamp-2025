{
 "cells": [
  {
   "cell_type": "markdown",
   "id": "b7dd33a9",
   "metadata": {},
   "source": [
    "## Homework 1: Introduction to Machine Learning for Machine Learning Zoomcamp 2025"
   ]
  },
  {
   "cell_type": "markdown",
   "id": "293835d6",
   "metadata": {},
   "source": [
    "### Q1. Pandas versions\n",
    "\n",
    "What's the version of Pandas that you installed?"
   ]
  },
  {
   "cell_type": "code",
   "execution_count": 48,
   "id": "74641c05",
   "metadata": {},
   "outputs": [],
   "source": [
    "# !uv add pandas numpy scikit-learn matplotlib seaborn\n",
    "\n",
    "import pandas as pd\n",
    "import numpy as np"
   ]
  },
  {
   "cell_type": "code",
   "execution_count": 49,
   "id": "398bdbcb",
   "metadata": {},
   "outputs": [
    {
     "name": "stdout",
     "output_type": "stream",
     "text": [
      "2.3.2\n"
     ]
    }
   ],
   "source": [
    "print(pd.__version__)"
   ]
  },
  {
   "cell_type": "markdown",
   "id": "c7566b7c",
   "metadata": {},
   "source": [
    "### Q2. Records count\n",
    "\n",
    "How many records are in the dataset?"
   ]
  },
  {
   "cell_type": "code",
   "execution_count": 50,
   "id": "8056e63f",
   "metadata": {},
   "outputs": [
    {
     "data": {
      "text/plain": [
       "(9704, 11)"
      ]
     },
     "execution_count": null,
     "metadata": {},
     "output_type": "execute_result"
    }
   ],
   "source": [
    "## Read data from URL https://raw.githubusercontent.com/alexeygrigorev/datasets/master/car_fuel_efficiency.csv\n",
    "fuel = pd.read_csv('https://raw.githubusercontent.com/alexeygrigorev/datasets/master/car_fuel_efficiency.csv')\n",
    "\n",
    "# fuel.head()\n",
    "\n",
    "fuel.shape"
   ]
  },
  {
   "cell_type": "markdown",
   "id": "8b902267",
   "metadata": {},
   "source": [
    "### Q3. Fuel types\n",
    "\n",
    "How many fuel types are presented in the dataset?"
   ]
  },
  {
   "cell_type": "code",
   "execution_count": 51,
   "id": "a719f36e",
   "metadata": {},
   "outputs": [
    {
     "data": {
      "text/plain": [
       "array(['Gasoline', 'Diesel'], dtype=object)"
      ]
     },
     "execution_count": null,
     "metadata": {},
     "output_type": "execute_result"
    }
   ],
   "source": [
    "fuel[\"fuel_type\"].unique()"
   ]
  },
  {
   "cell_type": "markdown",
   "id": "1231d723",
   "metadata": {},
   "source": [
    "### Q4. Missing values\n",
    "\n",
    "How many columns in the dataset have missing values?"
   ]
  },
  {
   "cell_type": "code",
   "execution_count": 52,
   "id": "6f2d4a09",
   "metadata": {},
   "outputs": [
    {
     "data": {
      "text/plain": [
       "Index(['num_cylinders', 'horsepower', 'acceleration', 'num_doors'], dtype='object')"
      ]
     },
     "execution_count": null,
     "metadata": {},
     "output_type": "execute_result"
    }
   ],
   "source": [
    "# fuel.info(verbose=True, show_counts=True)\n",
    "\n",
    "fuel.columns[fuel.isna().any()]"
   ]
  },
  {
   "cell_type": "markdown",
   "id": "6e0f9b53",
   "metadata": {},
   "source": [
    "### Q5. Max fuel efficiency\n",
    "What's the maximum fuel efficiency of cars from Asia?"
   ]
  },
  {
   "cell_type": "code",
   "execution_count": 53,
   "id": "df19b65e",
   "metadata": {},
   "outputs": [
    {
     "data": {
      "text/plain": [
       "np.float64(23.759122836520497)"
      ]
     },
     "execution_count": null,
     "metadata": {},
     "output_type": "execute_result"
    }
   ],
   "source": [
    "# %%\n",
    "fuel.fuel_efficiency_mpg[fuel.origin == \"Asia\"].max()"
   ]
  },
  {
   "cell_type": "markdown",
   "id": "af11bd10",
   "metadata": {},
   "source": [
    "### Q6. Median value of horsepower\n",
    "\n",
    "1. Find the median value of horsepower column in the dataset.\n",
    "2. Next, calculate the most frequent value of the same horsepower column.\n",
    "3. Use fillna method to fill the missing values in horsepower column with the most frequent value from the previous step.\n",
    "4. Now, calculate the median value of horsepower once again.\n",
    "\n",
    "Has it changed?"
   ]
  },
  {
   "cell_type": "code",
   "execution_count": 54,
   "id": "2d90eb42",
   "metadata": {},
   "outputs": [
    {
     "name": "stdout",
     "output_type": "stream",
     "text": [
      "median: 149.0\n",
      "most frequent value: 152.0\n",
      "median after imputation: 152.0\n"
     ]
    }
   ],
   "source": [
    "# median\n",
    "hp_median = fuel[\"horsepower\"].median()\n",
    "print(f'median: {hp_median}')\n",
    "\n",
    "# most frequent value\n",
    "hp_mode = fuel[\"horsepower\"].mode()[0]\n",
    "print(f'most frequent value: {hp_mode}')\n",
    "\n",
    "# impute missing values with most frequent value\n",
    "fuel[\"horsepower\"] = fuel[\"horsepower\"].fillna(value = hp_mode)\n",
    "\n",
    "# median after imputation\n",
    "hp_median_imputed = fuel[\"horsepower\"].median()\n",
    "print(f'median after imputation: {hp_median_imputed}')"
   ]
  },
  {
   "cell_type": "markdown",
   "id": "e73eec1a",
   "metadata": {},
   "source": [
    "### Q7. Sum of weights\n",
    "\n",
    "1. Select all the cars from Asia\n",
    "2. Select only columns vehicle_weight and model_year\n",
    "3. Select the first 7 values\n",
    "4. Get the underlying NumPy array. Let's call it X."
   ]
  },
  {
   "cell_type": "code",
   "execution_count": 55,
   "id": "004a4769",
   "metadata": {},
   "outputs": [],
   "source": [
    "X = fuel[fuel[\"origin\"] == \"Asia\"][[\"vehicle_weight\", \"model_year\"]].iloc[:7].to_numpy()"
   ]
  },
  {
   "cell_type": "markdown",
   "id": "c078781f",
   "metadata": {},
   "source": [
    "5. Compute matrix-matrix multiplication between the transpose of X and X. To get the transpose, use X.T. Let's call the result XTX."
   ]
  },
  {
   "cell_type": "code",
   "execution_count": 56,
   "id": "7ede33f9",
   "metadata": {},
   "outputs": [],
   "source": [
    "XTX = X.T.dot(X)"
   ]
  },
  {
   "cell_type": "markdown",
   "id": "497d86f7",
   "metadata": {},
   "source": [
    "6. Invert XTX"
   ]
  },
  {
   "cell_type": "code",
   "execution_count": 57,
   "id": "33a0d08c",
   "metadata": {},
   "outputs": [],
   "source": [
    "# inverse XTX\n",
    "XTX_inv = np.linalg.inv(XTX)"
   ]
  },
  {
   "cell_type": "markdown",
   "id": "4eef3aa7",
   "metadata": {},
   "source": [
    "7. Create an array y with values [1100, 1300, 800, 900, 1000, 1100, 1200]."
   ]
  },
  {
   "cell_type": "code",
   "execution_count": 58,
   "id": "053ada92",
   "metadata": {},
   "outputs": [],
   "source": [
    "y = np.array([1100, 1300, 800, 900, 1000, 1100, 1200])"
   ]
  },
  {
   "cell_type": "markdown",
   "id": "c4807384",
   "metadata": {},
   "source": [
    "8. Multiply the inverse of XTX with the transpose of X, and then multiply the result by y. Call the result w\n",
    "9. What's the sum of all the elements of the result?"
   ]
  },
  {
   "cell_type": "code",
   "execution_count": 59,
   "id": "e1cc29de",
   "metadata": {},
   "outputs": [
    {
     "data": {
      "text/plain": [
       "np.float64(0.5187709081074006)"
      ]
     },
     "execution_count": null,
     "metadata": {},
     "output_type": "execute_result"
    }
   ],
   "source": [
    "# Multiply the inverse of XTX with the transpose of X, and then multiply the result by y. Call the result w\n",
    "w = XTX_inv.dot(X.T).dot(y)\n",
    "np.sum(w)"
   ]
  },
  {
   "cell_type": "code",
   "execution_count": null,
   "id": "60fe17f8",
   "metadata": {},
   "outputs": [],
   "source": []
  }
 ],
 "metadata": {
  "language_info": {
   "name": "python"
  }
 },
 "nbformat": 4,
 "nbformat_minor": 5
}
